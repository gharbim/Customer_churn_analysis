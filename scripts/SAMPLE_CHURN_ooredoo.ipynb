{
 "cells": [
  {
   "cell_type": "code",
   "execution_count": 48,
   "id": "43ca9aef-d7e4-4cec-a90f-02a9c60c4fa3",
   "metadata": {},
   "outputs": [
    {
     "name": "stderr",
     "output_type": "stream",
     "text": [
      "C:\\Users\\PC HP 1\\AppData\\Local\\Temp\\ipykernel_6620\\4263745967.py:8: DtypeWarning: Columns (13,15) have mixed types. Specify dtype option on import or set low_memory=False.\n",
      "  df = pd.read_csv(file_path)\n"
     ]
    },
    {
     "name": "stdout",
     "output_type": "stream",
     "text": [
      "Dataset Overview:\n",
      "  churn classe_anciennete  subscriber_id                            msisdn  \\\n",
      "0    No               NaN            NaN                               NaN   \n",
      "1    No     0 to 3 Months   2.180781e+09  dc77fad2110cc23f31bbe0166de8c377   \n",
      "2    No     0 to 3 Months   2.180606e+09  9d13a3fcf7f20203914c49c32ca6a0ea   \n",
      "3    No     0 to 3 Months   2.180584e+09  9b6c47edad2f25ffac743b6849b6bf26   \n",
      "4    No     0 to 3 Months   2.180725e+09  a467b76595494a4b88f2a39fa99b9d15   \n",
      "\n",
      "   sales_channel_description            date_activation churn_date  \\\n",
      "0                        NaN                        NaN        NaN   \n",
      "1                        NaN  10JAN2025:00:00:00.000000        NaN   \n",
      "2                        NaN  19FEB2025:16:50:18.000000        NaN   \n",
      "3                        NaN  23DEC2024:00:00:00.000000        NaN   \n",
      "4                        NaN  06JAN2025:00:00:00.000000        NaN   \n",
      "\n",
      "             first_call_date             last_call_date  \\\n",
      "0                        NaN                        NaN   \n",
      "1                        NaN                        NaN   \n",
      "2  30DEC2024:21:31:38.000000  19MAR2025:20:51:21.000000   \n",
      "3  23DEC2024:15:48:43.000000  29DEC2024:21:18:53.000000   \n",
      "4  07JAN2025:14:23:49.000000  07JAN2025:14:23:49.000000   \n",
      "\n",
      "         first_recharge_date  first_recharge_amount  \\\n",
      "0                        NaN                    NaN   \n",
      "1  10JAN2025:11:31:57.000000                 1754.0   \n",
      "2                        NaN                    NaN   \n",
      "3  23DEC2024:15:46:43.000000                 1000.0   \n",
      "4                        NaN                    NaN   \n",
      "\n",
      "  last_international_call_date original_operator dat_attrib_kridi  \\\n",
      "0                          NaN       Non Ooredoo              NaN   \n",
      "1                          NaN           Ooredoo              NaN   \n",
      "2                          NaN           Ooredoo              NaN   \n",
      "3                          NaN           Ooredoo              NaN   \n",
      "4                          NaN           Ooredoo              NaN   \n",
      "\n",
      "  dat_remb_kridi_net ported_in_request_date  SelectionProb  SamplingWeight  \n",
      "0                NaN                    NaN       1.000000        1.000000  \n",
      "1                NaN                    NaN       0.050002       19.999201  \n",
      "2                NaN                    NaN       0.050002       19.999201  \n",
      "3                NaN                    NaN       0.050002       19.999201  \n",
      "4                NaN                    NaN       0.050002       19.999201  \n",
      "\n",
      "Missing Values:\n",
      "churn                                0\n",
      "classe_anciennete                    1\n",
      "subscriber_id                        1\n",
      "msisdn                               1\n",
      "sales_channel_description       423767\n",
      "date_activation                      1\n",
      "churn_date                      312830\n",
      "first_call_date                  25353\n",
      "last_call_date                   25353\n",
      "first_recharge_date              58200\n",
      "first_recharge_amount            58200\n",
      "last_international_call_date    418328\n",
      "original_operator                    0\n",
      "dat_attrib_kridi                423765\n",
      "dat_remb_kridi_net              278344\n",
      "ported_in_request_date          418751\n",
      "SelectionProb                        0\n",
      "SamplingWeight                       0\n",
      "dtype: int64\n",
      "\n",
      "Basic Statistics:\n",
      "       subscriber_id  sales_channel_description  first_recharge_amount  \\\n",
      "count   4.237660e+05                        0.0          365567.000000   \n",
      "mean    1.841337e+09                        NaN            3400.526672   \n",
      "std     7.706192e+08                        NaN            4938.426870   \n",
      "min     8.000000e+00                        NaN               0.000000   \n",
      "25%     2.146383e+09                        NaN            1000.000000   \n",
      "50%     2.166900e+09                        NaN            1053.000000   \n",
      "75%     2.178443e+09                        NaN            5000.000000   \n",
      "max     2.180997e+09                        NaN          200000.000000   \n",
      "\n",
      "       SelectionProb  SamplingWeight  \n",
      "count  423767.000000   423767.000000  \n",
      "mean        0.050003       19.999714  \n",
      "std         0.001459        0.029313  \n",
      "min         0.050000        1.000000  \n",
      "25%         0.050000       19.999769  \n",
      "50%         0.050000       19.999918  \n",
      "75%         0.050001       19.999918  \n",
      "max         1.000000       19.999946  \n"
     ]
    }
   ],
   "source": [
    "import pandas as pd\n",
    "import matplotlib.pyplot as plt\n",
    "import seaborn as sns\n",
    "\n",
    "# Load the dataset\n",
    "#total ligne 423768\n",
    "file_path = \"C:/Users/PC HP 1/Desktop/2025-03-21/old_data/SAMPLE_CHURN (1).csv\"\n",
    "df = pd.read_csv(file_path)\n",
    "\n",
    "# Preview the dataset\n",
    "print(\"Dataset Overview:\")\n",
    "print(df.head())\n",
    "\n",
    "# Check for missing values\n",
    "print(\"\\nMissing Values:\")\n",
    "print(df.isnull().sum())\n",
    "\n",
    "# Basic statistics\n",
    "print(\"\\nBasic Statistics:\")\n",
    "print(df.describe())"
   ]
  },
  {
   "cell_type": "code",
   "execution_count": 49,
   "id": "050e4002-ef8c-4d86-acd3-a3643f4bf9a9",
   "metadata": {},
   "outputs": [],
   "source": [
    "df = df.drop(columns=[\"sales_channel_description\"])"
   ]
  },
  {
   "cell_type": "code",
   "execution_count": null,
   "id": "dd3e6362-89e5-470a-af7d-2551a0cdc4af",
   "metadata": {},
   "outputs": [],
   "source": [
    "df = df.drop(columns=[\"dat_attrib_kridi\"])"
   ]
  },
  {
   "cell_type": "code",
   "execution_count": 50,
   "id": "31248ad2-3b47-49eb-bd84-32703e59297a",
   "metadata": {},
   "outputs": [],
   "source": [
    "df = df.drop(columns=[\"ported_in_request_date\"])"
   ]
  },
  {
   "cell_type": "code",
   "execution_count": 51,
   "id": "819dc35a-d0b3-410b-b9e5-ad287b1247b6",
   "metadata": {},
   "outputs": [],
   "source": [
    "df = df.dropna(subset=[\"classe_anciennete\"])"
   ]
  },
  {
   "cell_type": "code",
   "execution_count": 52,
   "id": "79452f74-2bfe-4f82-8fe1-f1e7940d5ebb",
   "metadata": {},
   "outputs": [
    {
     "name": "stdout",
     "output_type": "stream",
     "text": [
      "\n",
      "Missing Values:\n",
      "churn                                0\n",
      "classe_anciennete                    0\n",
      "subscriber_id                        0\n",
      "msisdn                               0\n",
      "date_activation                      0\n",
      "churn_date                      312829\n",
      "first_call_date                  25352\n",
      "last_call_date                   25352\n",
      "first_recharge_date              58199\n",
      "first_recharge_amount            58199\n",
      "last_international_call_date    418327\n",
      "original_operator                    0\n",
      "dat_attrib_kridi                423764\n",
      "dat_remb_kridi_net              278343\n",
      "SelectionProb                        0\n",
      "SamplingWeight                       0\n",
      "dtype: int64\n"
     ]
    }
   ],
   "source": [
    "# Check for missing values\n",
    "print(\"\\nMissing Values:\")\n",
    "print(df.isnull().sum())"
   ]
  },
  {
   "cell_type": "code",
   "execution_count": 53,
   "id": "768e0788-33b4-42ff-92cd-7cb5836e0fe4",
   "metadata": {},
   "outputs": [
    {
     "name": "stdout",
     "output_type": "stream",
     "text": [
      "Invalid rows (churn = Yes but churn_date is missing) 0\n"
     ]
    }
   ],
   "source": [
    "missing_churn_date = df[(df[\"churn\"] == \"Yes\") & (df[\"churn_date\"].isnull())]\n",
    "print(\"Invalid rows (churn = Yes but churn_date is missing)\", len(missing_churn_date))"
   ]
  },
  {
   "cell_type": "code",
   "execution_count": 54,
   "id": "fc854419-ca21-4d53-a7fb-9ea7a5aefec0",
   "metadata": {},
   "outputs": [
    {
     "name": "stdout",
     "output_type": "stream",
     "text": [
      "Invalid rows (churn = No but churn_date is filled): 74681\n"
     ]
    }
   ],
   "source": [
    "invalid_churn_date = df[(df[\"churn\"] == \"No\") & (df[\"churn_date\"].notnull())]\n",
    "print(\"Invalid rows (churn = No but churn_date is filled):\", len(invalid_churn_date))"
   ]
  },
  {
   "cell_type": "code",
   "execution_count": 55,
   "id": "fa5b60fe-bc9c-4b05-85da-5658568c3367",
   "metadata": {},
   "outputs": [],
   "source": [
    "df.loc[df[\"churn\"] == \"No\", \"churn_date\"] = pd.NaT"
   ]
  },
  {
   "cell_type": "code",
   "execution_count": 56,
   "id": "633a4769-6337-4646-8fd9-c85c61ba66a2",
   "metadata": {},
   "outputs": [
    {
     "name": "stdout",
     "output_type": "stream",
     "text": [
      "True\n"
     ]
    }
   ],
   "source": [
    "# Confirm that churn_date is null for all churn = \"No\"\n",
    "print(df[df[\"churn\"] == \"No\"][\"churn_date\"].isnull().all())  # Should return True"
   ]
  },
  {
   "cell_type": "code",
   "execution_count": 57,
   "id": "36570594-22ed-4062-bb65-d7eb9740f989",
   "metadata": {},
   "outputs": [],
   "source": [
    "# Create binary flag: 1 if international call exists, 0 otherwise\n",
    "df[\"has_international_call\"] = df[\"last_international_call_date\"].notnull().astype(int)\n",
    "#df = df.drop(columns=[\"last_international_call_date\"])"
   ]
  },
  {
   "cell_type": "code",
   "execution_count": 58,
   "id": "0f41e2a5-b696-477f-b99c-c9bbad1fd254",
   "metadata": {},
   "outputs": [],
   "source": [
    "# Create binary column: 1 if kridi attrib OR kridi repayment exists\n",
    "df[\"has_kridi\"] = (\n",
    "    df[\"dat_attrib_kridi\"].notnull() | df[\"dat_remb_kridi_net\"].notnull()\n",
    ").astype(int)\n",
    "#df = df.drop(columns=[\"dat_attrib_kridi\", \"dat_remb_kridi_net\"])"
   ]
  },
  {
   "cell_type": "code",
   "execution_count": 59,
   "id": "e6f2efbe-b890-468e-9734-c86b226aa7d1",
   "metadata": {},
   "outputs": [],
   "source": [
    "# === Step 1: Binary column for call activity ===\n",
    "df[\"has_called\"] = df[\"first_call_date\"].notnull().astype(int)\n",
    "\n",
    "# === Step 2: Binary column for recharge activity ===\n",
    "df[\"has_recharged\"] = df[\"first_recharge_date\"].notnull().astype(int)\n",
    "\n",
    "# Optionally drop these if you only care about the flag:\n",
    "#df.drop([\"first_call_date\", \"last_call_date\"], axis=1, inplace=True)\n",
    "\n",
    "# Optionally drop these if you only care about the flag:\n",
    "#df.drop([\"first_recharge_date\", \"first_recharge_amount\"], axis=1, inplace=True)\n",
    "\n",
    "# === Optional: If you want to keep recharge amount for customers who recharged only ===\n",
    "# You could fill missing values with 0 ONLY IF you add has_recharged flag\n",
    "# df[\"first_recharge_amount\"] = df[\"first_recharge_amount\"].fillna(0)"
   ]
  },
  {
   "cell_type": "code",
   "execution_count": 60,
   "id": "cb7385c7-063f-41e8-8637-bae68523cb37",
   "metadata": {},
   "outputs": [],
   "source": [
    "from sklearn.preprocessing import LabelEncoder\n",
    "le = LabelEncoder()\n",
    "df['churn'] = le.fit_transform(df['churn'])  # Yes/No → 1/0"
   ]
  },
  {
   "cell_type": "code",
   "execution_count": 61,
   "id": "2d855491-ac31-463f-9fc0-4b086e2f4cb1",
   "metadata": {},
   "outputs": [],
   "source": [
    "# from sklearn.preprocessing import StandardScaler\n",
    "# num_cols = [ 'SamplingWeight']  \n",
    "# scaler = StandardScaler()\n",
    "# df[num_cols] = scaler.fit_transform(df[num_cols])"
   ]
  },
  {
   "cell_type": "code",
   "execution_count": 62,
   "id": "3cf34df4-cc31-4434-84c7-6faf91890efb",
   "metadata": {},
   "outputs": [
    {
     "name": "stdout",
     "output_type": "stream",
     "text": [
      "['Ooredoo' 'Non Ooredoo']\n"
     ]
    }
   ],
   "source": [
    "print(df['original_operator'].unique())\n",
    "df['original_operator_binary'] = df['original_operator'].apply(lambda x: 1 if x == 'Ooredoo' else 0)"
   ]
  },
  {
   "cell_type": "code",
   "execution_count": 63,
   "id": "b1dc30ad-299a-44c4-9ffb-3436c467f5fb",
   "metadata": {},
   "outputs": [
    {
     "name": "stdout",
     "output_type": "stream",
     "text": [
      "      date_activation churn_date  tenure_in_days  days_since_activation\n",
      "1 2025-01-10 00:00:00        NaT             216                    216\n",
      "2 2025-02-19 16:50:18        NaT             175                    175\n",
      "3 2024-12-23 00:00:00        NaT             234                    234\n",
      "4 2025-01-06 00:00:00        NaT             220                    220\n",
      "5 2024-12-23 00:00:00        NaT             234                    234\n"
     ]
    }
   ],
   "source": [
    "import pandas as pd\n",
    "from datetime import datetime\n",
    "\n",
    "# Make sure date columns are parsed correctly\n",
    "date_cols = ['date_activation', 'churn_date']\n",
    "for col in date_cols:\n",
    "    df[col] = pd.to_datetime(df[col], errors='coerce', format='%d%b%Y:%H:%M:%S.%f')\n",
    "\n",
    "# Get today's date (you can replace this with the date of data extraction if needed)\n",
    "today = pd.to_datetime('today')\n",
    "\n",
    "# Create tenure_in_days:\n",
    "df['tenure_in_days'] = (df['churn_date'].fillna(today) - df['date_activation']).dt.days\n",
    "\n",
    "# Create days_since_activation (useful for active clients only)\n",
    "df['days_since_activation'] = (today - df['date_activation']).dt.days\n",
    "\n",
    "# Show the new columns\n",
    "print(df[['date_activation', 'churn_date', 'tenure_in_days', 'days_since_activation']].head())"
   ]
  },
  {
   "cell_type": "code",
   "execution_count": 64,
   "id": "9ecda62f-8511-48c7-a784-c102750ebade",
   "metadata": {},
   "outputs": [],
   "source": [
    "# import pandas as pd\n",
    "# from datetime import datetime\n",
    "\n",
    "# # Make sure date columns are parsed correctly\n",
    "# date_cols = ['date_activation', 'churn_date', 'last_call_date', 'first_recharge_date']\n",
    "# for col in date_cols:\n",
    "#     df[col] = pd.to_datetime(df[col], errors='coerce', format='%d%b%Y:%H:%M:%S.%f')\n",
    "\n",
    "# # Get today's date (you can replace this with the date of data extraction if needed)\n",
    "# today = pd.to_datetime('today')\n",
    "\n",
    "# # Create tenure_in_days\n",
    "# df['tenure_in_days'] = (df['churn_date'].fillna(today) - df['date_activation']).dt.days\n",
    "\n",
    "# # Create days_since_activation (useful for active clients only)\n",
    "# df['days_since_activation'] = (today - df['date_activation']).dt.days\n",
    "\n",
    "# #  Create new columns\n",
    "# df['days_inactive'] = (df['churn_date'] - df['last_call_date']).dt.days\n",
    "# df['days_between_activation_and_first_recharge'] = (\n",
    "#     df['first_recharge_date'] - df['date_activation']\n",
    "# ).dt.days\n",
    "\n",
    "# # Show sample of new columns\n",
    "# print(df[['date_activation', 'churn_date', 'last_call_date', 'first_recharge_date',\n",
    "#           'tenure_in_days', 'days_since_activation', \n",
    "#           'days_inactive', 'days_between_activation_and_first_recharge']].head())\n"
   ]
  },
  {
   "cell_type": "code",
   "execution_count": 65,
   "id": "9abf6e02-1d61-486e-a63b-ef64a0fc506a",
   "metadata": {},
   "outputs": [
    {
     "data": {
      "text/plain": [
       "churn\n",
       "0    0.914443\n",
       "1    0.085557\n",
       "Name: proportion, dtype: float64"
      ]
     },
     "execution_count": 65,
     "metadata": {},
     "output_type": "execute_result"
    }
   ],
   "source": [
    "df['churn'].value_counts(normalize=True)"
   ]
  },
  {
   "cell_type": "code",
   "execution_count": 66,
   "id": "19f0f661-13c2-4d94-93c0-b64dcf72d17f",
   "metadata": {},
   "outputs": [
    {
     "name": "stdout",
     "output_type": "stream",
     "text": [
      "Dataset Overview:\n",
      "   churn classe_anciennete  subscriber_id                            msisdn  \\\n",
      "1      0     0 to 3 Months   2.180781e+09  dc77fad2110cc23f31bbe0166de8c377   \n",
      "2      0     0 to 3 Months   2.180606e+09  9d13a3fcf7f20203914c49c32ca6a0ea   \n",
      "3      0     0 to 3 Months   2.180584e+09  9b6c47edad2f25ffac743b6849b6bf26   \n",
      "4      0     0 to 3 Months   2.180725e+09  a467b76595494a4b88f2a39fa99b9d15   \n",
      "5      0     0 to 3 Months   2.180582e+09  931925bcd539b754a0fa5201e4e027a6   \n",
      "\n",
      "      date_activation churn_date            first_call_date  \\\n",
      "1 2025-01-10 00:00:00        NaT                        NaN   \n",
      "2 2025-02-19 16:50:18        NaT  30DEC2024:21:31:38.000000   \n",
      "3 2024-12-23 00:00:00        NaT  23DEC2024:15:48:43.000000   \n",
      "4 2025-01-06 00:00:00        NaT  07JAN2025:14:23:49.000000   \n",
      "5 2024-12-23 00:00:00        NaT  23DEC2024:17:26:51.000000   \n",
      "\n",
      "              last_call_date        first_recharge_date  \\\n",
      "1                        NaN  10JAN2025:11:31:57.000000   \n",
      "2  19MAR2025:20:51:21.000000                        NaN   \n",
      "3  29DEC2024:21:18:53.000000  23DEC2024:15:46:43.000000   \n",
      "4  07JAN2025:14:23:49.000000                        NaN   \n",
      "5  19MAR2025:23:29:19.000000  23DEC2024:17:17:17.000000   \n",
      "\n",
      "   first_recharge_amount  ... dat_remb_kridi_net SelectionProb SamplingWeight  \\\n",
      "1                 1754.0  ...                NaN      0.050002      19.999201   \n",
      "2                    NaN  ...                NaN      0.050002      19.999201   \n",
      "3                 1000.0  ...                NaN      0.050002      19.999201   \n",
      "4                    NaN  ...                NaN      0.050002      19.999201   \n",
      "5                 5000.0  ...                NaN      0.050002      19.999201   \n",
      "\n",
      "  has_international_call  has_kridi  has_called  has_recharged  \\\n",
      "1                      0          0           0              1   \n",
      "2                      0          0           1              0   \n",
      "3                      0          0           1              1   \n",
      "4                      0          0           1              0   \n",
      "5                      0          0           1              1   \n",
      "\n",
      "   original_operator_binary  tenure_in_days  days_since_activation  \n",
      "1                         1             216                    216  \n",
      "2                         1             175                    175  \n",
      "3                         1             234                    234  \n",
      "4                         1             220                    220  \n",
      "5                         1             234                    234  \n",
      "\n",
      "[5 rows x 23 columns]\n",
      "\n",
      "Missing Values:\n",
      "churn                                0\n",
      "classe_anciennete                    0\n",
      "subscriber_id                        0\n",
      "msisdn                               0\n",
      "date_activation                      0\n",
      "churn_date                      387510\n",
      "first_call_date                  25352\n",
      "last_call_date                   25352\n",
      "first_recharge_date              58199\n",
      "first_recharge_amount            58199\n",
      "last_international_call_date    418327\n",
      "original_operator                    0\n",
      "dat_attrib_kridi                423764\n",
      "dat_remb_kridi_net              278343\n",
      "SelectionProb                        0\n",
      "SamplingWeight                       0\n",
      "has_international_call               0\n",
      "has_kridi                            0\n",
      "has_called                           0\n",
      "has_recharged                        0\n",
      "original_operator_binary             0\n",
      "tenure_in_days                       0\n",
      "days_since_activation                0\n",
      "dtype: int64\n",
      "\n",
      "Basic Statistics:\n",
      "               churn  subscriber_id                date_activation  \\\n",
      "count  423766.000000   4.237660e+05                         423766   \n",
      "mean        0.085557   1.841337e+09  2020-05-20 19:06:15.354671616   \n",
      "min         0.000000   8.000000e+00            2002-12-26 00:00:00   \n",
      "25%         0.000000   2.146383e+09            2018-04-26 18:23:14   \n",
      "50%         0.000000   2.166900e+09            2022-07-16 00:00:00   \n",
      "75%         0.000000   2.178443e+09            2024-06-15 19:46:44   \n",
      "max         1.000000   2.180997e+09            2025-02-19 18:15:17   \n",
      "std         0.279709   7.706192e+08                            NaN   \n",
      "\n",
      "                          churn_date  first_recharge_amount  SelectionProb  \\\n",
      "count                          36256          365567.000000  423766.000000   \n",
      "mean   2024-12-30 13:33:54.987174144            3400.526672       0.050001   \n",
      "min              2024-08-15 00:00:00               0.000000       0.050000   \n",
      "25%              2024-12-16 23:59:59            1000.000000       0.050000   \n",
      "50%              2024-12-31 23:59:59            1053.000000       0.050000   \n",
      "75%              2025-01-16 23:59:59            5000.000000       0.050001   \n",
      "max              2025-03-15 00:00:00          200000.000000       0.051118   \n",
      "std                              NaN            4938.426870       0.000007   \n",
      "\n",
      "       SamplingWeight  has_international_call      has_kridi     has_called  \\\n",
      "count   423766.000000           423766.000000  423766.000000  423766.000000   \n",
      "mean        19.999759                0.012835       0.343171       0.940175   \n",
      "min         19.562500                0.000000       0.000000       0.000000   \n",
      "25%         19.999769                0.000000       0.000000       1.000000   \n",
      "50%         19.999918                0.000000       0.000000       1.000000   \n",
      "75%         19.999918                0.000000       1.000000       1.000000   \n",
      "max         19.999946                1.000000       1.000000       1.000000   \n",
      "std          0.002717                0.112562       0.474768       0.237163   \n",
      "\n",
      "       has_recharged  original_operator_binary  tenure_in_days  \\\n",
      "count  423766.000000             423766.000000   423766.000000   \n",
      "mean        0.862662                  0.982155     1891.806285   \n",
      "min         0.000000                  0.000000        0.000000   \n",
      "25%         1.000000                  1.000000      394.000000   \n",
      "50%         1.000000                  1.000000     1107.000000   \n",
      "75%         1.000000                  1.000000     2658.000000   \n",
      "max         1.000000                  1.000000     8267.000000   \n",
      "std         0.344204                  0.132387     1961.276116   \n",
      "\n",
      "       days_since_activation  \n",
      "count          423766.000000  \n",
      "mean             1911.260406  \n",
      "min               175.000000  \n",
      "25%               424.000000  \n",
      "50%              1125.000000  \n",
      "75%              2666.000000  \n",
      "max              8267.000000  \n",
      "std              1953.285236  \n"
     ]
    }
   ],
   "source": [
    "# Preview the dataset\n",
    "print(\"Dataset Overview:\")\n",
    "print(df.head())\n",
    "\n",
    "# Check for missing values\n",
    "print(\"\\nMissing Values:\")\n",
    "print(df.isnull().sum())\n",
    "\n",
    "# Basic statistics\n",
    "print(\"\\nBasic Statistics:\")\n",
    "print(df.describe())"
   ]
  },
  {
   "cell_type": "code",
   "execution_count": 67,
   "id": "3e0d58f5-7256-4beb-b377-f2f098e69858",
   "metadata": {},
   "outputs": [],
   "source": [
    "# df[~df['classe_anciennete'].isin(anciennete_mapping.keys())]['classe_anciennete'].value_counts()"
   ]
  },
  {
   "cell_type": "code",
   "execution_count": 68,
   "id": "7a08e92d-6e53-401a-870d-034197b48b6a",
   "metadata": {},
   "outputs": [],
   "source": [
    "anciennete_mapping = {\n",
    "    '0 to 3 Months': 0,\n",
    "    '3 to 6 Months': 1,\n",
    "    '6 to 12 Months': 2,\n",
    "    '12 to 36 Months': 3,\n",
    "    'More than 36 Months': 4\n",
    "}\n",
    "df['anciennete_encoded'] = df['classe_anciennete'].map(anciennete_mapping)\n",
    "\n",
    "# df.drop('classe_anciennete', axis=1, inplace=True)"
   ]
  },
  {
   "cell_type": "code",
   "execution_count": 69,
   "id": "a3d19418-6887-4919-8b14-63d0ad3020c7",
   "metadata": {},
   "outputs": [
    {
     "name": "stdout",
     "output_type": "stream",
     "text": [
      "\n",
      "Missing Values:\n",
      "churn                                0\n",
      "classe_anciennete                    0\n",
      "subscriber_id                        0\n",
      "msisdn                               0\n",
      "date_activation                      0\n",
      "churn_date                      387510\n",
      "first_call_date                  25352\n",
      "last_call_date                   25352\n",
      "first_recharge_date              58199\n",
      "first_recharge_amount            58199\n",
      "last_international_call_date    418327\n",
      "original_operator                    0\n",
      "dat_attrib_kridi                423764\n",
      "dat_remb_kridi_net              278343\n",
      "SelectionProb                        0\n",
      "SamplingWeight                       0\n",
      "has_international_call               0\n",
      "has_kridi                            0\n",
      "has_called                           0\n",
      "has_recharged                        0\n",
      "original_operator_binary             0\n",
      "tenure_in_days                       0\n",
      "days_since_activation                0\n",
      "anciennete_encoded                   0\n",
      "dtype: int64\n"
     ]
    }
   ],
   "source": [
    "# Check for missing values\n",
    "print(\"\\nMissing Values:\")\n",
    "print(df.isnull().sum())"
   ]
  },
  {
   "cell_type": "code",
   "execution_count": 70,
   "id": "3ba68d92-c9ef-47bb-b0e6-2c2e974bb1d4",
   "metadata": {},
   "outputs": [
    {
     "data": {
      "text/plain": [
       "churn\n",
       "0    387510\n",
       "1     36256\n",
       "Name: count, dtype: int64"
      ]
     },
     "execution_count": 70,
     "metadata": {},
     "output_type": "execute_result"
    }
   ],
   "source": [
    "df['churn'].value_counts()"
   ]
  },
  {
   "cell_type": "code",
   "execution_count": 71,
   "id": "f93a23a2-44ee-407e-bf78-da94fefce344",
   "metadata": {},
   "outputs": [
    {
     "name": "stdout",
     "output_type": "stream",
     "text": [
      "Column: tenure_in_days — Outliers detected: 27795\n",
      "Column: days_since_activation — Outliers detected: 28214\n"
     ]
    },
    {
     "data": {
      "image/png": "[encoded data removed]",
      "text/plain": [
       "<Figure size 600x150 with 1 Axes>"
      ]
     },
     "metadata": {},
     "output_type": "display_data"
    },
    {
     "data": {
      "image/png": "[encoded data removed]",
      "text/plain": [
       "<Figure size 600x150 with 1 Axes>"
      ]
     },
     "metadata": {},
     "output_type": "display_data"
    }
   ],
   "source": [
    "# === Step 1: Define the numeric columns to check for outliers ===\n",
    "numeric_cols = ['tenure_in_days', 'days_since_activation']\n",
    "\n",
    "# === Step 2: Function to detect and cap outliers ===\n",
    "for col in numeric_cols:\n",
    "    # Compute Q1, Q3, and IQR\n",
    "    Q1 = df[col].quantile(0.25)\n",
    "    Q3 = df[col].quantile(0.75)\n",
    "    IQR = Q3 - Q1\n",
    "\n",
    "    # Define bounds for outliers\n",
    "    lower_bound = Q1 - 1.5 * IQR\n",
    "    upper_bound = Q3 + 1.5 * IQR\n",
    "\n",
    "    # Count outliers\n",
    "    outliers_count = df[(df[col] < lower_bound) | (df[col] > upper_bound)].shape[0]\n",
    "    print(f\"Column: {col} — Outliers detected: {outliers_count}\")\n",
    "\n",
    "    # Optional: Cap the outliers (Winsorization)\n",
    "    df[col] = df[col].clip(lower=lower_bound, upper=upper_bound)\n",
    "\n",
    "# === Step 3: Optional — Plot boxplots to visualize cleaned data ===\n",
    "for col in numeric_cols:\n",
    "    plt.figure(figsize=(6, 1.5))\n",
    "    sns.boxplot(x=df[col])\n",
    "    plt.title(f\"Boxplot after capping outliers in '{col}'\")\n",
    "    plt.show()"
   ]
  },
  {
   "cell_type": "code",
   "execution_count": 72,
   "id": "a0772d6a-c42d-4086-acc9-55222ac1f385",
   "metadata": {},
   "outputs": [],
   "source": [
    "#save after changes \n",
    "df.to_csv('cleaned_churn_data.csv', index=False)"
   ]
  },
  {
   "cell_type": "code",
   "execution_count": 73,
   "id": "1932206a-5329-4555-8856-adcf8185b0a1",
   "metadata": {},
   "outputs": [
    {
     "name": "stdout",
     "output_type": "stream",
     "text": [
      "C:\\Users\\PC HP 1\n"
     ]
    }
   ],
   "source": [
    "import os\n",
    "print(os.getcwd())"
   ]
  },
  {
   "cell_type": "code",
   "execution_count": 74,
   "id": "8811cfdc-144d-4dfe-be7c-09dc80f5266c",
   "metadata": {},
   "outputs": [
    {
     "name": "stdout",
     "output_type": "stream",
     "text": [
      "   churn classe_anciennete  subscriber_id                            msisdn  \\\n",
      "1      0     0 to 3 Months   2.180781e+09  dc77fad2110cc23f31bbe0166de8c377   \n",
      "2      0     0 to 3 Months   2.180606e+09  9d13a3fcf7f20203914c49c32ca6a0ea   \n",
      "3      0     0 to 3 Months   2.180584e+09  9b6c47edad2f25ffac743b6849b6bf26   \n",
      "4      0     0 to 3 Months   2.180725e+09  a467b76595494a4b88f2a39fa99b9d15   \n",
      "5      0     0 to 3 Months   2.180582e+09  931925bcd539b754a0fa5201e4e027a6   \n",
      "\n",
      "      date_activation churn_date            first_call_date  \\\n",
      "1 2025-01-10 00:00:00        NaT                        NaN   \n",
      "2 2025-02-19 16:50:18        NaT  30DEC2024:21:31:38.000000   \n",
      "3 2024-12-23 00:00:00        NaT  23DEC2024:15:48:43.000000   \n",
      "4 2025-01-06 00:00:00        NaT  07JAN2025:14:23:49.000000   \n",
      "5 2024-12-23 00:00:00        NaT  23DEC2024:17:26:51.000000   \n",
      "\n",
      "              last_call_date        first_recharge_date  \\\n",
      "1                        NaN  10JAN2025:11:31:57.000000   \n",
      "2  19MAR2025:20:51:21.000000                        NaN   \n",
      "3  29DEC2024:21:18:53.000000  23DEC2024:15:46:43.000000   \n",
      "4  07JAN2025:14:23:49.000000                        NaN   \n",
      "5  19MAR2025:23:29:19.000000  23DEC2024:17:17:17.000000   \n",
      "\n",
      "   first_recharge_amount  ... SelectionProb SamplingWeight  \\\n",
      "1                 1754.0  ...      0.050002      19.999201   \n",
      "2                    NaN  ...      0.050002      19.999201   \n",
      "3                 1000.0  ...      0.050002      19.999201   \n",
      "4                    NaN  ...      0.050002      19.999201   \n",
      "5                 5000.0  ...      0.050002      19.999201   \n",
      "\n",
      "  has_international_call has_kridi  has_called  has_recharged  \\\n",
      "1                      0         0           0              1   \n",
      "2                      0         0           1              0   \n",
      "3                      0         0           1              1   \n",
      "4                      0         0           1              0   \n",
      "5                      0         0           1              1   \n",
      "\n",
      "   original_operator_binary  tenure_in_days  days_since_activation  \\\n",
      "1                         1             216                    216   \n",
      "2                         1             175                    175   \n",
      "3                         1             234                    234   \n",
      "4                         1             220                    220   \n",
      "5                         1             234                    234   \n",
      "\n",
      "   anciennete_encoded  \n",
      "1                   0  \n",
      "2                   0  \n",
      "3                   0  \n",
      "4                   0  \n",
      "5                   0  \n",
      "\n",
      "[5 rows x 24 columns]\n"
     ]
    }
   ],
   "source": [
    "print(df.head())"
   ]
  }
 ],
 "metadata": {
  "kernelspec": {
   "display_name": "Python 3 (ipykernel)",
   "language": "python",
   "name": "python3"
  },
  "language_info": {
   "codemirror_mode": {
    "name": "ipython",
    "version": 3
   },
   "file_extension": ".py",
   "mimetype": "text/x-python",
   "name": "python",
   "nbconvert_exporter": "python",
   "pygments_lexer": "ipython3",
   "version": "3.11.7"
  }
 },
 "nbformat": 4,
 "nbformat_minor": 5
}
