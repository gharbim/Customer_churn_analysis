{
 "cells": [
  {
   "cell_type": "code",
   "execution_count": 1,
   "id": "985b4116-b476-465c-acfe-c2cae34d3920",
   "metadata": {},
   "outputs": [
    {
     "name": "stdout",
     "output_type": "stream",
     "text": [
      "Dataset Overview:\n",
      "   subscriber_id                            msisdn   age marital_status  \\\n",
      "0   2.180738e+09  9f7824805faa121c4f70f935d64b3108  26.0            NaN   \n",
      "1   2.180744e+09  bbde8acb3c4e13c41c35716c9fff2ade  60.0            NaN   \n",
      "2   2.180742e+09  5ebf12af9cfef0816a58760fe9f09911  38.0            NaN   \n",
      "3   2.180743e+09  6cdb9168ddfc41b7c108589ff038ea3b  56.0    Celibataire   \n",
      "4   2.180743e+09  2310842ccd17058bc0a5cb33a91e7c0d  23.0            NaN   \n",
      "\n",
      "  gender customer_language contact_city  \n",
      "0      M             Arabe      touzeur  \n",
      "1      F             Arabe       nabeul  \n",
      "2      M             Arabe      EL OUED  \n",
      "3      M           Anglais      Tunisie  \n",
      "4      M             Arabe         sfax  \n",
      "\n",
      "Missing Values:\n",
      "subscriber_id            1\n",
      "msisdn                   1\n",
      "age                  20024\n",
      "marital_status       99159\n",
      "gender               68045\n",
      "customer_language    47394\n",
      "contact_city          8793\n",
      "dtype: int64\n",
      "\n",
      "Basic Statistics:\n",
      "       subscriber_id            age\n",
      "count   4.237660e+05  403743.000000\n",
      "mean    1.841337e+09      43.306524\n",
      "std     7.706192e+08      15.518623\n",
      "min     8.000000e+00       0.000000\n",
      "25%     2.146383e+09      32.000000\n",
      "50%     2.166900e+09      42.000000\n",
      "75%     2.178443e+09      54.000000\n",
      "max     2.180997e+09    1833.000000\n"
     ]
    }
   ],
   "source": [
    "import pandas as pd\n",
    "import matplotlib.pyplot as plt\n",
    "import seaborn as sns\n",
    "\n",
    "# Load the dataset\n",
    "#total ligne 423768\n",
    "file_path = \"C:/Users/PC HP 1/Desktop/2025-03-21/old_data/socio-demographic_sample_churn.csv\"\n",
    "df = pd.read_csv(file_path)\n",
    "\n",
    "# Preview the dataset\n",
    "print(\"Dataset Overview:\")\n",
    "print(df.head())\n",
    "\n",
    "# Check for missing values\n",
    "print(\"\\nMissing Values:\")\n",
    "print(df.isnull().sum())\n",
    "\n",
    "# Basic statistics\n",
    "print(\"\\nBasic Statistics:\")\n",
    "print(df.describe())"
   ]
  },
  {
   "cell_type": "code",
   "execution_count": 2,
   "id": "80494845-4034-421b-b0b7-29670de9f722",
   "metadata": {},
   "outputs": [
    {
     "name": "stdout",
     "output_type": "stream",
     "text": [
      "\n",
      "Rows with null subscriber_id:\n",
      "        subscriber_id msisdn  age marital_status gender customer_language  \\\n",
      "403268            NaN    NaN  NaN            NaN    NaN               NaN   \n",
      "\n",
      "       contact_city  \n",
      "403268          NaN  \n",
      "\n",
      "Number of rows with null subscriber_id: 1\n"
     ]
    }
   ],
   "source": [
    "# Display rows where subscriber_id is missing\n",
    "missing_subscriber_id = df[df['subscriber_id'].isnull()]\n",
    "\n",
    "# Print those rows\n",
    "print(\"\\nRows with null subscriber_id:\")\n",
    "print(missing_subscriber_id)\n",
    "\n",
    "# Optionally, print how many such rows exist\n",
    "print(f\"\\nNumber of rows with null subscriber_id: {missing_subscriber_id.shape[0]}\")\n"
   ]
  },
  {
   "cell_type": "code",
   "execution_count": 3,
   "id": "557318f1-7ab3-4915-a674-42b02a78d7b7",
   "metadata": {},
   "outputs": [
    {
     "name": "stdout",
     "output_type": "stream",
     "text": [
      "\n",
      "Shape after cleaning: (423766, 6)\n",
      "Remaining columns: ['subscriber_id', 'msisdn', 'age', 'marital_status', 'gender', 'customer_language']\n"
     ]
    }
   ],
   "source": [
    "# Drop rows where subscriber_id is null\n",
    "df = df[df['subscriber_id'].notnull()]\n",
    "\n",
    "# Drop the column 'contact_city'\n",
    "df = df.drop(columns=['contact_city'])\n",
    "\n",
    "# Confirm the changes\n",
    "print(\"\\nShape after cleaning:\", df.shape)\n",
    "print(\"Remaining columns:\", df.columns.tolist())\n"
   ]
  },
  {
   "cell_type": "code",
   "execution_count": 4,
   "id": "81b288ba-5287-402d-89e0-88b0060862fd",
   "metadata": {},
   "outputs": [],
   "source": [
    "# Fill numeric column\n",
    "df['age'].fillna(df['age'].median(), inplace=True)\n",
    "\n",
    "# Fill categorical columns with mode\n",
    "df['marital_status'].fillna(df['marital_status'].mode()[0], inplace=True)\n",
    "df['gender'].fillna(df['gender'].mode()[0], inplace=True)\n",
    "df['customer_language'].fillna(df['customer_language'].mode()[0], inplace=True)"
   ]
  },
  {
   "cell_type": "code",
   "execution_count": 5,
   "id": "2c63aa6c-1582-4268-8698-4bcebc6ce85b",
   "metadata": {},
   "outputs": [
    {
     "name": "stdout",
     "output_type": "stream",
     "text": [
      "Dataset Overview:\n",
      "   subscriber_id                            msisdn   age marital_status  \\\n",
      "0   2.180738e+09  9f7824805faa121c4f70f935d64b3108  26.0    Celibataire   \n",
      "1   2.180744e+09  bbde8acb3c4e13c41c35716c9fff2ade  60.0    Celibataire   \n",
      "2   2.180742e+09  5ebf12af9cfef0816a58760fe9f09911  38.0    Celibataire   \n",
      "3   2.180743e+09  6cdb9168ddfc41b7c108589ff038ea3b  56.0    Celibataire   \n",
      "4   2.180743e+09  2310842ccd17058bc0a5cb33a91e7c0d  23.0    Celibataire   \n",
      "\n",
      "  gender customer_language  \n",
      "0      M             Arabe  \n",
      "1      F             Arabe  \n",
      "2      M             Arabe  \n",
      "3      M           Anglais  \n",
      "4      M             Arabe  \n"
     ]
    }
   ],
   "source": [
    "# Preview the dataset\n",
    "print(\"Dataset Overview:\")\n",
    "print(df.head())"
   ]
  },
  {
   "cell_type": "code",
   "execution_count": 6,
   "id": "aaf02988-0e48-404e-a8d2-2c0e87af2a62",
   "metadata": {},
   "outputs": [
    {
     "data": {
      "image/png": "[encoded data removed]",
      "text/plain": [
       "<Figure size 640x480 with 1 Axes>"
      ]
     },
     "metadata": {},
     "output_type": "display_data"
    }
   ],
   "source": [
    "import seaborn as sns\n",
    "import matplotlib.pyplot as plt\n",
    "\n",
    "# Boxplot\n",
    "sns.boxplot(x=df['age'])\n",
    "plt.title(\"Boxplot - Age\")\n",
    "plt.show()"
   ]
  },
  {
   "cell_type": "code",
   "execution_count": 7,
   "id": "cedffae6-6b68-4e57-8efd-c80061d24e0b",
   "metadata": {},
   "outputs": [],
   "source": [
    "def detect_outliers_iqr(df, column):\n",
    "    Q1 = df[column].quantile(0.25)\n",
    "    Q3 = df[column].quantile(0.75)\n",
    "    IQR = Q3 - Q1\n",
    "    lower = Q1 - 1.5 * IQR\n",
    "    upper = Q3 + 1.5 * IQR\n",
    "    return df[(df[column] < lower) | (df[column] > upper)]"
   ]
  },
  {
   "cell_type": "code",
   "execution_count": 8,
   "id": "8c7de506-fd35-4f08-8b5a-d2d1cf34eb7f",
   "metadata": {},
   "outputs": [
    {
     "name": "stdout",
     "output_type": "stream",
     "text": [
      "Number of outliers in 'age': 2139\n"
     ]
    }
   ],
   "source": [
    "outliers_age = detect_outliers_iqr(df, 'age')\n",
    "print(f\"Number of outliers in 'age': {outliers_age.shape[0]}\")"
   ]
  },
  {
   "cell_type": "code",
   "execution_count": 9,
   "id": "ee7aa7b2-7a56-4bd9-b33e-50723b83b474",
   "metadata": {},
   "outputs": [],
   "source": [
    "def remove_outliers_iqr(df, column):\n",
    "    Q1 = df[column].quantile(0.25)\n",
    "    Q3 = df[column].quantile(0.75)\n",
    "    IQR = Q3 - Q1\n",
    "    lower = Q1 - 1.5 * IQR\n",
    "    upper = Q3 + 1.5 * IQR\n",
    "    return df[(df[column] >= lower) & (df[column] <= upper)]"
   ]
  },
  {
   "cell_type": "code",
   "execution_count": 10,
   "id": "286f256a-9ec1-4a2a-8f91-fc9492c1ff2c",
   "metadata": {},
   "outputs": [],
   "source": [
    "df = remove_outliers_iqr(df, 'age')"
   ]
  },
  {
   "cell_type": "code",
   "execution_count": 11,
   "id": "2fd063a0-520c-4557-9176-8fa60c97e3c6",
   "metadata": {},
   "outputs": [
    {
     "data": {
      "image/png": "[encoded data removed]",
      "text/plain": [
       "<Figure size 640x480 with 1 Axes>"
      ]
     },
     "metadata": {},
     "output_type": "display_data"
    }
   ],
   "source": [
    "import seaborn as sns\n",
    "import matplotlib.pyplot as plt\n",
    "\n",
    "# Boxplot\n",
    "sns.boxplot(x=df['age'])\n",
    "plt.title(\"Boxplot - Age\")\n",
    "plt.show()"
   ]
  },
  {
   "cell_type": "code",
   "execution_count": 12,
   "id": "d74f7cc9-5df7-4af7-b255-20814da710d6",
   "metadata": {},
   "outputs": [
    {
     "name": "stdout",
     "output_type": "stream",
     "text": [
      "Dataset Overview:\n",
      "   subscriber_id                            msisdn   age marital_status  \\\n",
      "0   2.180738e+09  9f7824805faa121c4f70f935d64b3108  26.0    Celibataire   \n",
      "1   2.180744e+09  bbde8acb3c4e13c41c35716c9fff2ade  60.0    Celibataire   \n",
      "2   2.180742e+09  5ebf12af9cfef0816a58760fe9f09911  38.0    Celibataire   \n",
      "3   2.180743e+09  6cdb9168ddfc41b7c108589ff038ea3b  56.0    Celibataire   \n",
      "4   2.180743e+09  2310842ccd17058bc0a5cb33a91e7c0d  23.0    Celibataire   \n",
      "\n",
      "  gender customer_language  \n",
      "0      M             Arabe  \n",
      "1      F             Arabe  \n",
      "2      M             Arabe  \n",
      "3      M           Anglais  \n",
      "4      M             Arabe  \n",
      "\n",
      "Missing Values:\n",
      "subscriber_id        0\n",
      "msisdn               0\n",
      "age                  0\n",
      "marital_status       0\n",
      "gender               0\n",
      "customer_language    0\n",
      "dtype: int64\n",
      "\n",
      "Basic Statistics:\n",
      "       subscriber_id            age\n",
      "count   4.216270e+05  421627.000000\n",
      "mean    1.842231e+09      42.947442\n",
      "std     7.697605e+08      13.876288\n",
      "min     8.000000e+00       1.000000\n",
      "25%     2.146412e+09      32.000000\n",
      "50%     2.166951e+09      42.000000\n",
      "75%     2.178450e+09      53.000000\n",
      "max     2.180997e+09      84.000000\n"
     ]
    }
   ],
   "source": [
    "# Preview the dataset\n",
    "print(\"Dataset Overview:\")\n",
    "print(df.head())\n",
    "\n",
    "# Check for missing values\n",
    "print(\"\\nMissing Values:\")\n",
    "print(df.isnull().sum())\n",
    "\n",
    "# Basic statistics\n",
    "print(\"\\nBasic Statistics:\")\n",
    "print(df.describe())"
   ]
  },
  {
   "cell_type": "code",
   "execution_count": 13,
   "id": "0578a8f7-a5fd-481c-9db4-fc23fb353d72",
   "metadata": {},
   "outputs": [
    {
     "name": "stdout",
     "output_type": "stream",
     "text": [
      "Distinct values in 'age':\n",
      "[ 1.  3.  4.  5.  6.  7.  8.  9. 10. 11. 12. 13. 14. 15. 16. 17. 18. 19.\n",
      " 20. 21. 22. 23. 24. 25. 26. 27. 28. 29. 30. 31. 32. 33. 34. 35. 36. 37.\n",
      " 38. 39. 40. 41. 42. 43. 44. 45. 46. 47. 48. 49. 50. 51. 52. 53. 54. 55.\n",
      " 56. 57. 58. 59. 60. 61. 62. 63. 64. 65. 66. 67. 68. 69. 70. 71. 72. 73.\n",
      " 74. 75. 76. 77. 78. 79. 80. 81. 82. 83. 84.]\n"
     ]
    }
   ],
   "source": [
    "import numpy as np\n",
    "# Display unique values in the 'age' column\n",
    "unique_ages = df['age'].unique()\n",
    "print(\"Distinct values in 'age':\")\n",
    "print(np.sort(unique_ages))  "
   ]
  },
  {
   "cell_type": "code",
   "execution_count": 14,
   "id": "8d919ba3-cb83-4457-884f-d6d4ed5bc46a",
   "metadata": {},
   "outputs": [
    {
     "name": "stdout",
     "output_type": "stream",
     "text": [
      "Total invalid ages replaced: Flag dropped\n",
      "Any remaining missing values in age: 0\n"
     ]
    }
   ],
   "source": [
    "import numpy as np\n",
    "import pandas as pd\n",
    "\n",
    "# Define logical age bounds based on domain knowledge\n",
    "valid_age_min = 18\n",
    "valid_age_max = 99\n",
    "\n",
    "# Step 1: Flag invalid ages for tracking\n",
    "df['age_invalid_flag'] = df['age'].apply(\n",
    "    lambda x: True if pd.notnull(x) and (x < valid_age_min or x > valid_age_max) else False\n",
    ")\n",
    "\n",
    "# Step 2: Replace invalid ages with NaN to prepare for imputation\n",
    "df.loc[df['age_invalid_flag'], 'age'] = np.nan\n",
    "\n",
    "# Step 3: Impute missing and invalid ages using group median by 'gender' and 'marital_status'\n",
    "df['age'] = df.groupby(['gender', 'marital_status'])['age'].transform(\n",
    "    lambda grp: grp.fillna(grp.median())\n",
    ")\n",
    "\n",
    "# Step 4: Fallback — fill any remaining NaNs with overall median age\n",
    "df['age'].fillna(df['age'].median(), inplace=True)\n",
    "\n",
    "# Optional Step 5: Drop the temporary flag column\n",
    "df.drop(columns=['age_invalid_flag'], inplace=True)\n",
    "\n",
    "# Optional Step 6: Print summary for audit\n",
    "print(f\"Total invalid ages replaced: {df['age_invalid_flag'].sum() if 'age_invalid_flag' in df else 'Flag dropped'}\")\n",
    "print(f\"Any remaining missing values in age: {df['age'].isnull().sum()}\")\n"
   ]
  },
  {
   "cell_type": "code",
   "execution_count": 15,
   "id": "499c61fa-c4c8-41ce-b5ec-d8da53d2c592",
   "metadata": {},
   "outputs": [
    {
     "name": "stdout",
     "output_type": "stream",
     "text": [
      "Dataset Overview:\n",
      "   subscriber_id                            msisdn   age marital_status  \\\n",
      "0   2.180738e+09  9f7824805faa121c4f70f935d64b3108  26.0    Celibataire   \n",
      "1   2.180744e+09  bbde8acb3c4e13c41c35716c9fff2ade  60.0    Celibataire   \n",
      "2   2.180742e+09  5ebf12af9cfef0816a58760fe9f09911  38.0    Celibataire   \n",
      "3   2.180743e+09  6cdb9168ddfc41b7c108589ff038ea3b  56.0    Celibataire   \n",
      "4   2.180743e+09  2310842ccd17058bc0a5cb33a91e7c0d  23.0    Celibataire   \n",
      "\n",
      "  gender customer_language  \n",
      "0      M             Arabe  \n",
      "1      F             Arabe  \n",
      "2      M             Arabe  \n",
      "3      M           Anglais  \n",
      "4      M             Arabe  \n",
      "\n",
      "Missing Values:\n",
      "subscriber_id        0\n",
      "msisdn               0\n",
      "age                  0\n",
      "marital_status       0\n",
      "gender               0\n",
      "customer_language    0\n",
      "dtype: int64\n",
      "\n",
      "Basic Statistics:\n",
      "       subscriber_id            age\n",
      "count   4.216270e+05  421627.000000\n",
      "mean    1.842231e+09      42.967936\n",
      "std     7.697605e+08      13.852994\n",
      "min     8.000000e+00      18.000000\n",
      "25%     2.146412e+09      32.000000\n",
      "50%     2.166951e+09      42.000000\n",
      "75%     2.178450e+09      53.000000\n",
      "max     2.180997e+09      84.000000\n"
     ]
    }
   ],
   "source": [
    "# Preview the dataset\n",
    "print(\"Dataset Overview:\")\n",
    "print(df.head())\n",
    "\n",
    "# Check for missing values\n",
    "print(\"\\nMissing Values:\")\n",
    "print(df.isnull().sum())\n",
    "\n",
    "# Basic statistics\n",
    "print(\"\\nBasic Statistics:\")\n",
    "print(df.describe())"
   ]
  },
  {
   "cell_type": "code",
   "execution_count": 16,
   "id": "b3681a45-d2a5-46e9-80ff-e6a2de6a85fb",
   "metadata": {},
   "outputs": [
    {
     "data": {
      "text/plain": [
       "0"
      ]
     },
     "execution_count": 16,
     "metadata": {},
     "output_type": "execute_result"
    }
   ],
   "source": [
    "df.duplicated().sum()\n",
    "df['subscriber_id'].duplicated().sum()\n"
   ]
  },
  {
   "cell_type": "code",
   "execution_count": 17,
   "id": "1e4c54c6-7d1e-4fcc-b96f-2cf926d20807",
   "metadata": {},
   "outputs": [
    {
     "name": "stdout",
     "output_type": "stream",
     "text": [
      "subscriber_id: 421627 unique values\n",
      "[2.18073815e+09 2.18074431e+09 2.18074210e+09 ... 2.18059169e+09\n",
      " 2.18059730e+09 2.18060210e+09]\n",
      "--------------------------------------------------------------------------------\n",
      "msisdn: 421627 unique values\n",
      "['9f7824805faa121c4f70f935d64b3108' 'bbde8acb3c4e13c41c35716c9fff2ade'\n",
      " '5ebf12af9cfef0816a58760fe9f09911' ... 'f5f9be13eb9e881b2a56dccb4ed1a920'\n",
      " 'fc8b34b20ea39591167960ff78615047' 'd7f30772b5cce5c9b40ef5bb74ed3c5d']\n",
      "--------------------------------------------------------------------------------\n",
      "age: 67 unique values\n",
      "[26. 60. 38. 56. 23. 24. 58. 33. 54. 18. 25. 41. 27. 20. 29. 19. 36. 30.\n",
      " 44. 66. 34. 28. 52. 42. 43. 32. 55. 40. 45. 47. 48. 22. 21. 49. 67. 51.\n",
      " 37. 63. 78. 35. 68. 53. 69. 39. 65. 72. 64. 50. 76. 61. 31. 57. 70. 46.\n",
      " 62. 77. 82. 84. 80. 81. 73. 59. 75. 71. 74. 83. 79.]\n",
      "--------------------------------------------------------------------------------\n",
      "marital_status: 4 unique values\n",
      "['Celibataire' 'Marie' 'Divorce' 'Veuf']\n",
      "--------------------------------------------------------------------------------\n",
      "gender: 3 unique values\n",
      "['M' 'F' 'U']\n",
      "--------------------------------------------------------------------------------\n",
      "customer_language: 5 unique values\n",
      "['Arabe' 'Anglais' 'Français' 'Italien' 'Francais']\n",
      "--------------------------------------------------------------------------------\n"
     ]
    }
   ],
   "source": [
    "columns = [\n",
    "    'subscriber_id', \n",
    "    'msisdn', \n",
    "    'age', \n",
    "    'marital_status', \n",
    "    'gender', \n",
    "    'customer_language'\n",
    "]\n",
    "\n",
    "for col in columns:\n",
    "    unique_values = df[col].dropna().unique()\n",
    "    print(f\"{col}: {len(unique_values)} unique values\")\n",
    "    print(unique_values)  # show all unique values\n",
    "    print(\"-\" * 80)"
   ]
  },
  {
   "cell_type": "code",
   "execution_count": 18,
   "id": "eb493712-e349-408f-aeb4-85046437658d",
   "metadata": {},
   "outputs": [
    {
     "name": "stdout",
     "output_type": "stream",
     "text": [
      "gender\n",
      "M    324615\n",
      "F     97004\n",
      "U         8\n",
      "Name: count, dtype: int64\n"
     ]
    }
   ],
   "source": [
    "print(df['gender'].value_counts(dropna=False))\n"
   ]
  },
  {
   "cell_type": "code",
   "execution_count": 19,
   "id": "5c46f5d1-e54e-4aec-8412-7747cbf1cb10",
   "metadata": {},
   "outputs": [],
   "source": [
    "df = df[df['gender'] != 'U']"
   ]
  },
  {
   "cell_type": "code",
   "execution_count": 21,
   "id": "c1b5b55d-9b7e-44df-a3ba-28e9cf582c2c",
   "metadata": {},
   "outputs": [
    {
     "name": "stdout",
     "output_type": "stream",
     "text": [
      "\n",
      "Unique values in 'customer_language':\n",
      "['Arabe' 'Anglais' 'Français' 'Italien']\n"
     ]
    }
   ],
   "source": [
    "# Replace 'Francais' with 'Français' in customer_language\n",
    "df['customer_language'] = df['customer_language'].replace('Francais', 'Français')\n",
    "\n",
    "# Check unique values again\n",
    "print(\"\\nUnique values in 'customer_language':\")\n",
    "print(df['customer_language'].unique())\n"
   ]
  },
  {
   "cell_type": "code",
   "execution_count": 22,
   "id": "f29d50f8-7fae-4c2d-a4a4-10813593df49",
   "metadata": {},
   "outputs": [],
   "source": [
    "#save after changes \n",
    "df.to_csv('cleaned_socio-demographic_sample_churn.csv', index=False)"
   ]
  }
 ],
 "metadata": {
  "kernelspec": {
   "display_name": "Python 3 (ipykernel)",
   "language": "python",
   "name": "python3"
  },
  "language_info": {
   "codemirror_mode": {
    "name": "ipython",
    "version": 3
   },
   "file_extension": ".py",
   "mimetype": "text/x-python",
   "name": "python",
   "nbconvert_exporter": "python",
   "pygments_lexer": "ipython3",
   "version": "3.11.7"
  }
 },
 "nbformat": 4,
 "nbformat_minor": 5
}
